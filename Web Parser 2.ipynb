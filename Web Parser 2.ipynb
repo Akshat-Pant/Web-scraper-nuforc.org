{
 "cells": [
  {
   "cell_type": "code",
   "execution_count": null,
   "metadata": {
    "collapsed": true
   },
   "outputs": [],
   "source": [
    "from bs4 import BeautifulSoup\n",
    "import requests\n",
    "import csv"
   ]
  },
  {
   "cell_type": "code",
   "execution_count": null,
   "metadata": {
    "scrolled": true
   },
   "outputs": [],
   "source": [
    "url= 'http://www.nuforc.org/webreports/ndxevent.html'\n",
    "response= requests.get(url)\n",
    "html= response.content\n",
    "#html\n",
    "soup= BeautifulSoup(html, 'html.parser')\n",
    "soup"
   ]
  },
  {
   "cell_type": "code",
   "execution_count": null,
   "metadata": {},
   "outputs": [],
   "source": [
    "table= soup.find('tbody')\n",
    "base_url= 'http://www.nuforc.org/webreports/'\n",
    "list_of_lists= []\n",
    "count= 0\n",
    "for row in table.find_all('tr'):\n",
    "    count= count+ 1\n",
    "    for cell in row.find_all('td'):\n",
    "        for link in cell.find_all('a'):\n",
    "            #print(link.get('href'))\n",
    "            new_url= base_url+ str(link.get('href'))\n",
    "            #print(new_url)\n",
    "            response= requests.get(new_url)\n",
    "            new_html= response.content\n",
    "            soup= BeautifulSoup(new_html, 'html.parser')\n",
    "            #print(soup)\n",
    "            new_table= soup.find('tbody')\n",
    "            #print(new_table)\n",
    "            for new_row in new_table.find_all('tr'):\n",
    "                counter= 0\n",
    "                list_of_data= []\n",
    "                for new_cell in new_row.find_all('td'):\n",
    "                    counter= counter+ 1\n",
    "                    if counter== 2 or counter== 3:\n",
    "                        list_of_data.append(new_cell.text)\n",
    "                        print(new_cell.text)\n",
    "                list_of_lists.append(list_of_data)\n",
    "                print(count)\n",
    "            "
   ]
  },
  {
   "cell_type": "code",
   "execution_count": null,
   "metadata": {},
   "outputs": [],
   "source": [
    "list_of_lists"
   ]
  },
  {
   "cell_type": "code",
   "execution_count": null,
   "metadata": {
    "collapsed": true
   },
   "outputs": [],
   "source": [
    "outfile= open('/Users/akshatpant/Desktop/Web-Parser/parsed_2.csv', 'w')\n",
    "writer= csv.writer(outfile)\n",
    "writer.writerow(['City', 'State'])\n",
    "writer.writerows(list_of_lists)"
   ]
  },
  {
   "cell_type": "code",
   "execution_count": null,
   "metadata": {
    "collapsed": true
   },
   "outputs": [],
   "source": []
  }
 ],
 "metadata": {
  "kernelspec": {
   "display_name": "Python 3",
   "language": "python",
   "name": "python3"
  },
  "language_info": {
   "codemirror_mode": {
    "name": "ipython",
    "version": 3
   },
   "file_extension": ".py",
   "mimetype": "text/x-python",
   "name": "python",
   "nbconvert_exporter": "python",
   "pygments_lexer": "ipython3",
   "version": "3.6.3"
  }
 },
 "nbformat": 4,
 "nbformat_minor": 2
}
